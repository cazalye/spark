{
 "cells": [
  {
   "cell_type": "code",
   "execution_count": null,
   "metadata": {
    "collapsed": false
   },
   "outputs": [],
   "source": [
    "import urllib.request as urllib\n",
    "urllib.urlretrieve (\"https://kannu.csc.fi/index.php/s/2FKIuCYWfzdc2hn/download\", \"HP.txt\")\n",
    "urllib.urlretrieve (\"https://kannu.csc.fi/index.php/s/oU72rsNmnDqJn0d/download\", \"GoT.txt\")"
   ]
  },
  {
   "cell_type": "code",
   "execution_count": null,
   "metadata": {
    "collapsed": true
   },
   "outputs": [],
   "source": [
    "from pyspark import SparkContext\n",
    "sc = SparkContext()"
   ]
  },
  {
   "cell_type": "markdown",
   "metadata": {},
   "source": [
    "## Word Count"
   ]
  },
  {
   "cell_type": "markdown",
   "metadata": {},
   "source": [
    "#### Load the RDD from the text file"
   ]
  },
  {
   "cell_type": "code",
   "execution_count": null,
   "metadata": {
    "collapsed": false
   },
   "outputs": [],
   "source": [
    "rdd_input = sc.textFile('HP.txt')\n",
    "# Split the text into words and flatten the results. Why?\n",
    "words = rdd_input.flatMap(lambda line: line.split())\n",
    "words.collect()"
   ]
  },
  {
   "cell_type": "markdown",
   "metadata": {},
   "source": [
    "#### Map the words in such a way, so that they can be counted later by aggregation"
   ]
  },
  {
   "cell_type": "code",
   "execution_count": null,
   "metadata": {
    "collapsed": true
   },
   "outputs": [],
   "source": [
    "words_map = words.map(lambda x: (x,1))"
   ]
  },
  {
   "cell_type": "markdown",
   "metadata": {},
   "source": [
    "#### Apply reduceByKey to complete the counting"
   ]
  },
  {
   "cell_type": "code",
   "execution_count": null,
   "metadata": {
    "collapsed": false
   },
   "outputs": [],
   "source": [
    "words_count = words_map.reduceByKey(lambda a,b: a+b)\n",
    "words_count.collect()"
   ]
  },
  {
   "cell_type": "markdown",
   "metadata": {},
   "source": [
    "#### Sort them in the order of counts"
   ]
  },
  {
   "cell_type": "code",
   "execution_count": null,
   "metadata": {
    "collapsed": false
   },
   "outputs": [],
   "source": [
    "words_count_sorted_freq = words_count.sortBy(lambda x: x[1])\n",
    "# words_count_sorted_freq = words_count.sortBy(lambda x: -x[1]) # Descending\n",
    "words_count_sorted_freq.collect()"
   ]
  },
  {
   "cell_type": "markdown",
   "metadata": {
    "collapsed": true
   },
   "source": [
    "## Inverted Index"
   ]
  },
  {
   "cell_type": "code",
   "execution_count": null,
   "metadata": {
    "collapsed": false
   },
   "outputs": [],
   "source": [
    "# name of the file is GoT.txt\n",
    "# data cleaning and preparation: get rid of the full stop at the end of sentences, convert everything to lowercase\n",
    "\n",
    "rdd_got = sc.textFile('GoT.txt')\n",
    "rdd_got = rdd_got.map(lambda line: line.replace('.', '')).map(lambda line: line.lower())\n",
    "rdd_got = rdd_got.zipWithIndex()  # Generate the positional index\n",
    "rdd_parsed = rdd_got.map(lambda x: (x[0].split(), x[1]))  # Split the words\n",
    "print(rdd_parsed.collect())\n",
    "# Add the index of the document to each of the words\n",
    "\n",
    "def add_index_to_words(item):\n",
    "    result = []\n",
    "    for word in item[0]:\n",
    "        result.append((word, item[1]))\n",
    "    return result\n",
    "\n",
    "# rdd_parsed_indexed = rdd_parsed.flatMap(lambda x: map(lambda y: (y, x[1]), x[0]))\n",
    "rdd_parsed_indexed = rdd_parsed.flatMap(add_index_to_words)\n",
    "rdd_parsed_indexed.collect()\n",
    "\n",
    "# use the same concept from word count to provide each key a default initial count of 1\n",
    "rdd_doc_countmap = rdd_parsed_indexed.map(lambda item: (item, 1))\n",
    "rdd_doc_wordcount = rdd_doc_countmap.reduceByKey(lambda a,b : a+b)\n",
    "\n",
    "rdd_wordcount_doc = rdd_doc_wordcount.map(lambda item: (item[0][0], [item[0][1], item[1]]))\n",
    "rdd_grouped = rdd_wordcount_doc.groupByKey()\n",
    "rdd_grouped = rdd_grouped.mapValues(list)\n",
    "rdd_sorted = rdd_grouped.sortByKey()\n",
    "rdd_sorted.collect()"
   ]
  },
  {
   "cell_type": "code",
   "execution_count": null,
   "metadata": {
    "collapsed": true
   },
   "outputs": [],
   "source": []
  }
 ],
 "metadata": {
  "kernelspec": {
   "display_name": "Python 3",
   "language": "python",
   "name": "python3"
  },
  "language_info": {
   "codemirror_mode": {
    "name": "ipython",
    "version": 3
   },
   "file_extension": ".py",
   "mimetype": "text/x-python",
   "name": "python",
   "nbconvert_exporter": "python",
   "pygments_lexer": "ipython3",
   "version": "3.4.3"
  }
 },
 "nbformat": 4,
 "nbformat_minor": 0
}
